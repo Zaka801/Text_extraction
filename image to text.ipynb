{
 "cells": [
  {
   "cell_type": "code",
   "execution_count": 2,
   "id": "d78e6ed1",
   "metadata": {},
   "outputs": [
    {
     "name": "stdout",
     "output_type": "stream",
     "text": [
      "Collecting pytesseract\n",
      "  Downloading pytesseract-0.3.10-py3-none-any.whl (14 kB)\n",
      "Collecting packaging>=21.3\n",
      "  Using cached packaging-23.0-py3-none-any.whl (42 kB)\n",
      "Requirement already satisfied: Pillow>=8.0.0 in c:\\users\\zakas\\anaconda3\\lib\\site-packages (from pytesseract) (8.4.0)\n",
      "Installing collected packages: packaging, pytesseract\n",
      "  Attempting uninstall: packaging\n",
      "    Found existing installation: packaging 21.0\n",
      "    Uninstalling packaging-21.0:\n",
      "      Successfully uninstalled packaging-21.0\n",
      "Successfully installed packaging-23.0 pytesseract-0.3.10\n",
      "Note: you may need to restart the kernel to use updated packages.\n"
     ]
    }
   ],
   "source": [
    "pip install pytesseract\n"
   ]
  },
  {
   "cell_type": "code",
   "execution_count": 1,
   "id": "60045ba8",
   "metadata": {},
   "outputs": [],
   "source": [
    "import pytesseract"
   ]
  },
  {
   "cell_type": "code",
   "execution_count": 2,
   "id": "0516d7aa",
   "metadata": {},
   "outputs": [],
   "source": [
    "pytesseract.pytesseract.tesseract_cmd = r'C:\\Program Files (x86)\\Tesseract-OCR\\tesseract'"
   ]
  },
  {
   "cell_type": "code",
   "execution_count": 3,
   "id": "01a8131e",
   "metadata": {},
   "outputs": [
    {
     "name": "stdout",
     "output_type": "stream",
     "text": [
      "The British ordered the Acadtans expelled from\n",
      "their lands in 1755 during the French and Indian\n",
      "War, an event called the Expulsion of the\n",
      "Acadians or \\e Grand DérangementlSG] The\n",
      "\"expulsmn\" resulted In approximately12,000\n",
      "Acadians being shipped to destinattons\n",
      "throughout Britain‘s North America and to\n",
      "France, Quebec and the French Caribbean\n",
      "colony of SaintrDomingue.[9U] The ﬁrst wave of\n",
      "the expulsion of the Acadians began with the\n",
      "Bay of Fundy Campaign (1755) and the second\n",
      "wave began after the ﬁnal Siege of Louisbourg\n",
      "(1758), Many of the Acadians settled in\n",
      "southern Louisiana, creating the Cajun culture\n",
      "theret[91] Some Acadians managed to hide and\n",
      "others eventually returned to Nova Scotla, but\n",
      "they were far outnumbered by a new migration\n",
      "of New Engtand Planters who were settled on\n",
      "the former lands of the Acadians and\n",
      "transformed Nova Scotia from a colony of\n",
      "occupation for the British to a settled colony\n",
      "wtth stronger ties to New England.[91] Britain\n",
      "eventually gained control 0f Quebec City and\n",
      "Montreal after the Battle of the Plains of\n",
      "Abraham and Battle of Fort Niagara In 1759, and\n",
      "the Batﬁe of the Thousand Islands and Battle of\n",
      "SainteVFoy m 1760.[92]\n",
      "\n",
      "\n"
     ]
    }
   ],
   "source": [
    "print(pytesseract.image_to_string('sample.jpg'))"
   ]
  },
  {
   "cell_type": "code",
   "execution_count": null,
   "id": "59f1f844",
   "metadata": {},
   "outputs": [],
   "source": []
  }
 ],
 "metadata": {
  "kernelspec": {
   "display_name": "Python 3 (ipykernel)",
   "language": "python",
   "name": "python3"
  },
  "language_info": {
   "codemirror_mode": {
    "name": "ipython",
    "version": 3
   },
   "file_extension": ".py",
   "mimetype": "text/x-python",
   "name": "python",
   "nbconvert_exporter": "python",
   "pygments_lexer": "ipython3",
   "version": "3.9.7"
  }
 },
 "nbformat": 4,
 "nbformat_minor": 5
}
